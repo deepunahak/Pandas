{
 "cells": [
  {
   "cell_type": "code",
   "execution_count": 1,
   "id": "d4eb3f27",
   "metadata": {},
   "outputs": [],
   "source": [
    "import numpy as np\n",
    "import pandas as pd"
   ]
  },
  {
   "cell_type": "code",
   "execution_count": 2,
   "id": "e6cfe5d3",
   "metadata": {},
   "outputs": [],
   "source": [
    "dict1 = {\n",
    "    \"name\":['Deepu', 'Chandu', 'Mehek', 'Chintu'],\n",
    "    \"marks\":[85, 70, 91, 30],\n",
    "    \"city\":['Bengaluru', 'Hyderabad', 'Lucknow', 'Delhi']\n",
    "}"
   ]
  },
  {
   "cell_type": "code",
   "execution_count": 3,
   "id": "a9c2551f",
   "metadata": {},
   "outputs": [],
   "source": [
    "dataframe = pd.DataFrame(dict1)"
   ]
  },
  {
   "cell_type": "code",
   "execution_count": 4,
   "id": "872f625c",
   "metadata": {},
   "outputs": [
    {
     "data": {
      "text/html": [
       "<div>\n",
       "<style scoped>\n",
       "    .dataframe tbody tr th:only-of-type {\n",
       "        vertical-align: middle;\n",
       "    }\n",
       "\n",
       "    .dataframe tbody tr th {\n",
       "        vertical-align: top;\n",
       "    }\n",
       "\n",
       "    .dataframe thead th {\n",
       "        text-align: right;\n",
       "    }\n",
       "</style>\n",
       "<table border=\"1\" class=\"dataframe\">\n",
       "  <thead>\n",
       "    <tr style=\"text-align: right;\">\n",
       "      <th></th>\n",
       "      <th>name</th>\n",
       "      <th>marks</th>\n",
       "      <th>city</th>\n",
       "    </tr>\n",
       "  </thead>\n",
       "  <tbody>\n",
       "    <tr>\n",
       "      <th>0</th>\n",
       "      <td>Deepu</td>\n",
       "      <td>85</td>\n",
       "      <td>Bengaluru</td>\n",
       "    </tr>\n",
       "    <tr>\n",
       "      <th>1</th>\n",
       "      <td>Chandu</td>\n",
       "      <td>70</td>\n",
       "      <td>Hyderabad</td>\n",
       "    </tr>\n",
       "    <tr>\n",
       "      <th>2</th>\n",
       "      <td>Mehek</td>\n",
       "      <td>91</td>\n",
       "      <td>Lucknow</td>\n",
       "    </tr>\n",
       "    <tr>\n",
       "      <th>3</th>\n",
       "      <td>Chintu</td>\n",
       "      <td>30</td>\n",
       "      <td>Delhi</td>\n",
       "    </tr>\n",
       "  </tbody>\n",
       "</table>\n",
       "</div>"
      ],
      "text/plain": [
       "     name  marks       city\n",
       "0   Deepu     85  Bengaluru\n",
       "1  Chandu     70  Hyderabad\n",
       "2   Mehek     91    Lucknow\n",
       "3  Chintu     30      Delhi"
      ]
     },
     "execution_count": 4,
     "metadata": {},
     "output_type": "execute_result"
    }
   ],
   "source": [
    "dataframe"
   ]
  },
  {
   "cell_type": "code",
   "execution_count": 5,
   "id": "bf209fbc",
   "metadata": {},
   "outputs": [],
   "source": [
    "dataframe.to_csv('demo_csv1')"
   ]
  },
  {
   "cell_type": "code",
   "execution_count": 6,
   "id": "5aa75526",
   "metadata": {},
   "outputs": [],
   "source": [
    "dataframe.to_csv('demo_csv1_index_false.csv', index=False)"
   ]
  },
  {
   "cell_type": "code",
   "execution_count": 7,
   "id": "736b8733",
   "metadata": {},
   "outputs": [
    {
     "data": {
      "text/html": [
       "<div>\n",
       "<style scoped>\n",
       "    .dataframe tbody tr th:only-of-type {\n",
       "        vertical-align: middle;\n",
       "    }\n",
       "\n",
       "    .dataframe tbody tr th {\n",
       "        vertical-align: top;\n",
       "    }\n",
       "\n",
       "    .dataframe thead th {\n",
       "        text-align: right;\n",
       "    }\n",
       "</style>\n",
       "<table border=\"1\" class=\"dataframe\">\n",
       "  <thead>\n",
       "    <tr style=\"text-align: right;\">\n",
       "      <th></th>\n",
       "      <th>name</th>\n",
       "      <th>marks</th>\n",
       "      <th>city</th>\n",
       "    </tr>\n",
       "  </thead>\n",
       "  <tbody>\n",
       "    <tr>\n",
       "      <th>0</th>\n",
       "      <td>Deepu</td>\n",
       "      <td>85</td>\n",
       "      <td>Bengaluru</td>\n",
       "    </tr>\n",
       "    <tr>\n",
       "      <th>1</th>\n",
       "      <td>Chandu</td>\n",
       "      <td>70</td>\n",
       "      <td>Hyderabad</td>\n",
       "    </tr>\n",
       "  </tbody>\n",
       "</table>\n",
       "</div>"
      ],
      "text/plain": [
       "     name  marks       city\n",
       "0   Deepu     85  Bengaluru\n",
       "1  Chandu     70  Hyderabad"
      ]
     },
     "execution_count": 7,
     "metadata": {},
     "output_type": "execute_result"
    }
   ],
   "source": [
    "dataframe.head(2)"
   ]
  },
  {
   "cell_type": "code",
   "execution_count": 8,
   "id": "6ac2c272",
   "metadata": {},
   "outputs": [
    {
     "data": {
      "text/html": [
       "<div>\n",
       "<style scoped>\n",
       "    .dataframe tbody tr th:only-of-type {\n",
       "        vertical-align: middle;\n",
       "    }\n",
       "\n",
       "    .dataframe tbody tr th {\n",
       "        vertical-align: top;\n",
       "    }\n",
       "\n",
       "    .dataframe thead th {\n",
       "        text-align: right;\n",
       "    }\n",
       "</style>\n",
       "<table border=\"1\" class=\"dataframe\">\n",
       "  <thead>\n",
       "    <tr style=\"text-align: right;\">\n",
       "      <th></th>\n",
       "      <th>name</th>\n",
       "      <th>marks</th>\n",
       "      <th>city</th>\n",
       "    </tr>\n",
       "  </thead>\n",
       "  <tbody>\n",
       "    <tr>\n",
       "      <th>2</th>\n",
       "      <td>Mehek</td>\n",
       "      <td>91</td>\n",
       "      <td>Lucknow</td>\n",
       "    </tr>\n",
       "    <tr>\n",
       "      <th>3</th>\n",
       "      <td>Chintu</td>\n",
       "      <td>30</td>\n",
       "      <td>Delhi</td>\n",
       "    </tr>\n",
       "  </tbody>\n",
       "</table>\n",
       "</div>"
      ],
      "text/plain": [
       "     name  marks     city\n",
       "2   Mehek     91  Lucknow\n",
       "3  Chintu     30    Delhi"
      ]
     },
     "execution_count": 8,
     "metadata": {},
     "output_type": "execute_result"
    }
   ],
   "source": [
    "dataframe.tail(2)"
   ]
  },
  {
   "cell_type": "code",
   "execution_count": 9,
   "id": "413bcf80",
   "metadata": {},
   "outputs": [
    {
     "data": {
      "text/html": [
       "<div>\n",
       "<style scoped>\n",
       "    .dataframe tbody tr th:only-of-type {\n",
       "        vertical-align: middle;\n",
       "    }\n",
       "\n",
       "    .dataframe tbody tr th {\n",
       "        vertical-align: top;\n",
       "    }\n",
       "\n",
       "    .dataframe thead th {\n",
       "        text-align: right;\n",
       "    }\n",
       "</style>\n",
       "<table border=\"1\" class=\"dataframe\">\n",
       "  <thead>\n",
       "    <tr style=\"text-align: right;\">\n",
       "      <th></th>\n",
       "      <th>marks</th>\n",
       "    </tr>\n",
       "  </thead>\n",
       "  <tbody>\n",
       "    <tr>\n",
       "      <th>count</th>\n",
       "      <td>4.00000</td>\n",
       "    </tr>\n",
       "    <tr>\n",
       "      <th>mean</th>\n",
       "      <td>69.00000</td>\n",
       "    </tr>\n",
       "    <tr>\n",
       "      <th>std</th>\n",
       "      <td>27.45906</td>\n",
       "    </tr>\n",
       "    <tr>\n",
       "      <th>min</th>\n",
       "      <td>30.00000</td>\n",
       "    </tr>\n",
       "    <tr>\n",
       "      <th>25%</th>\n",
       "      <td>60.00000</td>\n",
       "    </tr>\n",
       "    <tr>\n",
       "      <th>50%</th>\n",
       "      <td>77.50000</td>\n",
       "    </tr>\n",
       "    <tr>\n",
       "      <th>75%</th>\n",
       "      <td>86.50000</td>\n",
       "    </tr>\n",
       "    <tr>\n",
       "      <th>max</th>\n",
       "      <td>91.00000</td>\n",
       "    </tr>\n",
       "  </tbody>\n",
       "</table>\n",
       "</div>"
      ],
      "text/plain": [
       "          marks\n",
       "count   4.00000\n",
       "mean   69.00000\n",
       "std    27.45906\n",
       "min    30.00000\n",
       "25%    60.00000\n",
       "50%    77.50000\n",
       "75%    86.50000\n",
       "max    91.00000"
      ]
     },
     "execution_count": 9,
     "metadata": {},
     "output_type": "execute_result"
    }
   ],
   "source": [
    "dataframe.describe()"
   ]
  },
  {
   "cell_type": "code",
   "execution_count": 10,
   "id": "c81c40d1",
   "metadata": {},
   "outputs": [],
   "source": [
    "train_df = pd.read_csv('train_read_csv.csv')"
   ]
  },
  {
   "cell_type": "code",
   "execution_count": 11,
   "id": "a4df9d36",
   "metadata": {},
   "outputs": [
    {
     "data": {
      "text/html": [
       "<div>\n",
       "<style scoped>\n",
       "    .dataframe tbody tr th:only-of-type {\n",
       "        vertical-align: middle;\n",
       "    }\n",
       "\n",
       "    .dataframe tbody tr th {\n",
       "        vertical-align: top;\n",
       "    }\n",
       "\n",
       "    .dataframe thead th {\n",
       "        text-align: right;\n",
       "    }\n",
       "</style>\n",
       "<table border=\"1\" class=\"dataframe\">\n",
       "  <thead>\n",
       "    <tr style=\"text-align: right;\">\n",
       "      <th></th>\n",
       "      <th>train_no</th>\n",
       "      <th>station_city</th>\n",
       "      <th>train_name</th>\n",
       "    </tr>\n",
       "  </thead>\n",
       "  <tbody>\n",
       "    <tr>\n",
       "      <th>0</th>\n",
       "      <td>123321</td>\n",
       "      <td>Hyderabad</td>\n",
       "      <td>Konark Express</td>\n",
       "    </tr>\n",
       "    <tr>\n",
       "      <th>1</th>\n",
       "      <td>333771</td>\n",
       "      <td>Bengaluru</td>\n",
       "      <td>Prasanti Express</td>\n",
       "    </tr>\n",
       "    <tr>\n",
       "      <th>2</th>\n",
       "      <td>637290</td>\n",
       "      <td>Odisha</td>\n",
       "      <td>Faluknamma Superfast</td>\n",
       "    </tr>\n",
       "    <tr>\n",
       "      <th>3</th>\n",
       "      <td>739202</td>\n",
       "      <td>Kolkatta</td>\n",
       "      <td>Howrah Yesmantpur</td>\n",
       "    </tr>\n",
       "    <tr>\n",
       "      <th>4</th>\n",
       "      <td>242627</td>\n",
       "      <td>Chennai</td>\n",
       "      <td>chennai mail</td>\n",
       "    </tr>\n",
       "    <tr>\n",
       "      <th>5</th>\n",
       "      <td>345272</td>\n",
       "      <td>Puri</td>\n",
       "      <td>Puri Durg Express</td>\n",
       "    </tr>\n",
       "  </tbody>\n",
       "</table>\n",
       "</div>"
      ],
      "text/plain": [
       "   train_no station_city            train_name\n",
       "0    123321    Hyderabad        Konark Express\n",
       "1    333771    Bengaluru      Prasanti Express\n",
       "2    637290       Odisha  Faluknamma Superfast\n",
       "3    739202     Kolkatta     Howrah Yesmantpur\n",
       "4    242627      Chennai          chennai mail\n",
       "5    345272         Puri     Puri Durg Express"
      ]
     },
     "execution_count": 11,
     "metadata": {},
     "output_type": "execute_result"
    }
   ],
   "source": [
    "train_df"
   ]
  },
  {
   "cell_type": "code",
   "execution_count": 12,
   "id": "6807efb2",
   "metadata": {},
   "outputs": [
    {
     "data": {
      "text/plain": [
       "0    123321\n",
       "1    333771\n",
       "2    637290\n",
       "3    739202\n",
       "4    242627\n",
       "5    345272\n",
       "Name: train_no, dtype: int64"
      ]
     },
     "execution_count": 12,
     "metadata": {},
     "output_type": "execute_result"
    }
   ],
   "source": [
    "train_df['train_no']"
   ]
  },
  {
   "cell_type": "code",
   "execution_count": 13,
   "id": "6e84aced",
   "metadata": {},
   "outputs": [
    {
     "name": "stderr",
     "output_type": "stream",
     "text": [
      "C:\\Users\\Futurense\\AppData\\Local\\Temp\\ipykernel_29692\\1948925443.py:1: SettingWithCopyWarning: \n",
      "A value is trying to be set on a copy of a slice from a DataFrame\n",
      "\n",
      "See the caveats in the documentation: https://pandas.pydata.org/pandas-docs/stable/user_guide/indexing.html#returning-a-view-versus-a-copy\n",
      "  train_df['train_no'][0] = 222222\n"
     ]
    }
   ],
   "source": [
    "train_df['train_no'][0] = 222222"
   ]
  },
  {
   "cell_type": "code",
   "execution_count": 14,
   "id": "2e4c67b0",
   "metadata": {},
   "outputs": [
    {
     "data": {
      "text/html": [
       "<div>\n",
       "<style scoped>\n",
       "    .dataframe tbody tr th:only-of-type {\n",
       "        vertical-align: middle;\n",
       "    }\n",
       "\n",
       "    .dataframe tbody tr th {\n",
       "        vertical-align: top;\n",
       "    }\n",
       "\n",
       "    .dataframe thead th {\n",
       "        text-align: right;\n",
       "    }\n",
       "</style>\n",
       "<table border=\"1\" class=\"dataframe\">\n",
       "  <thead>\n",
       "    <tr style=\"text-align: right;\">\n",
       "      <th></th>\n",
       "      <th>train_no</th>\n",
       "      <th>station_city</th>\n",
       "      <th>train_name</th>\n",
       "    </tr>\n",
       "  </thead>\n",
       "  <tbody>\n",
       "    <tr>\n",
       "      <th>0</th>\n",
       "      <td>222222</td>\n",
       "      <td>Hyderabad</td>\n",
       "      <td>Konark Express</td>\n",
       "    </tr>\n",
       "    <tr>\n",
       "      <th>1</th>\n",
       "      <td>333771</td>\n",
       "      <td>Bengaluru</td>\n",
       "      <td>Prasanti Express</td>\n",
       "    </tr>\n",
       "    <tr>\n",
       "      <th>2</th>\n",
       "      <td>637290</td>\n",
       "      <td>Odisha</td>\n",
       "      <td>Faluknamma Superfast</td>\n",
       "    </tr>\n",
       "    <tr>\n",
       "      <th>3</th>\n",
       "      <td>739202</td>\n",
       "      <td>Kolkatta</td>\n",
       "      <td>Howrah Yesmantpur</td>\n",
       "    </tr>\n",
       "    <tr>\n",
       "      <th>4</th>\n",
       "      <td>242627</td>\n",
       "      <td>Chennai</td>\n",
       "      <td>chennai mail</td>\n",
       "    </tr>\n",
       "    <tr>\n",
       "      <th>5</th>\n",
       "      <td>345272</td>\n",
       "      <td>Puri</td>\n",
       "      <td>Puri Durg Express</td>\n",
       "    </tr>\n",
       "  </tbody>\n",
       "</table>\n",
       "</div>"
      ],
      "text/plain": [
       "   train_no station_city            train_name\n",
       "0    222222    Hyderabad        Konark Express\n",
       "1    333771    Bengaluru      Prasanti Express\n",
       "2    637290       Odisha  Faluknamma Superfast\n",
       "3    739202     Kolkatta     Howrah Yesmantpur\n",
       "4    242627      Chennai          chennai mail\n",
       "5    345272         Puri     Puri Durg Express"
      ]
     },
     "execution_count": 14,
     "metadata": {},
     "output_type": "execute_result"
    }
   ],
   "source": [
    "train_df"
   ]
  },
  {
   "cell_type": "code",
   "execution_count": 27,
   "id": "b710f21b",
   "metadata": {},
   "outputs": [
    {
     "data": {
      "text/plain": [
       "train_no         int64\n",
       "station_city    object\n",
       "train_name      object\n",
       "dtype: object"
      ]
     },
     "execution_count": 27,
     "metadata": {},
     "output_type": "execute_result"
    }
   ],
   "source": [
    "train_df.dtypes"
   ]
  },
  {
   "cell_type": "markdown",
   "id": "4501a4a0",
   "metadata": {},
   "source": [
    "# Note : if we specify the file_name which we read earlier that file will be update\n",
    "\n",
    "# Here, I used different diff_file_name."
   ]
  },
  {
   "cell_type": "code",
   "execution_count": 15,
   "id": "c2562619",
   "metadata": {},
   "outputs": [],
   "source": [
    "train_df.to_csv('afterreadupdate_write_train.csv',index = False)"
   ]
  },
  {
   "cell_type": "code",
   "execution_count": 16,
   "id": "29c7a664",
   "metadata": {},
   "outputs": [],
   "source": [
    "train_df.index = ['1st','2nd','3rd','4th','5th','6th']"
   ]
  },
  {
   "cell_type": "code",
   "execution_count": 17,
   "id": "33916f56",
   "metadata": {},
   "outputs": [
    {
     "data": {
      "text/html": [
       "<div>\n",
       "<style scoped>\n",
       "    .dataframe tbody tr th:only-of-type {\n",
       "        vertical-align: middle;\n",
       "    }\n",
       "\n",
       "    .dataframe tbody tr th {\n",
       "        vertical-align: top;\n",
       "    }\n",
       "\n",
       "    .dataframe thead th {\n",
       "        text-align: right;\n",
       "    }\n",
       "</style>\n",
       "<table border=\"1\" class=\"dataframe\">\n",
       "  <thead>\n",
       "    <tr style=\"text-align: right;\">\n",
       "      <th></th>\n",
       "      <th>train_no</th>\n",
       "      <th>station_city</th>\n",
       "      <th>train_name</th>\n",
       "    </tr>\n",
       "  </thead>\n",
       "  <tbody>\n",
       "    <tr>\n",
       "      <th>1st</th>\n",
       "      <td>222222</td>\n",
       "      <td>Hyderabad</td>\n",
       "      <td>Konark Express</td>\n",
       "    </tr>\n",
       "    <tr>\n",
       "      <th>2nd</th>\n",
       "      <td>333771</td>\n",
       "      <td>Bengaluru</td>\n",
       "      <td>Prasanti Express</td>\n",
       "    </tr>\n",
       "    <tr>\n",
       "      <th>3rd</th>\n",
       "      <td>637290</td>\n",
       "      <td>Odisha</td>\n",
       "      <td>Faluknamma Superfast</td>\n",
       "    </tr>\n",
       "    <tr>\n",
       "      <th>4th</th>\n",
       "      <td>739202</td>\n",
       "      <td>Kolkatta</td>\n",
       "      <td>Howrah Yesmantpur</td>\n",
       "    </tr>\n",
       "    <tr>\n",
       "      <th>5th</th>\n",
       "      <td>242627</td>\n",
       "      <td>Chennai</td>\n",
       "      <td>chennai mail</td>\n",
       "    </tr>\n",
       "    <tr>\n",
       "      <th>6th</th>\n",
       "      <td>345272</td>\n",
       "      <td>Puri</td>\n",
       "      <td>Puri Durg Express</td>\n",
       "    </tr>\n",
       "  </tbody>\n",
       "</table>\n",
       "</div>"
      ],
      "text/plain": [
       "     train_no station_city            train_name\n",
       "1st    222222    Hyderabad        Konark Express\n",
       "2nd    333771    Bengaluru      Prasanti Express\n",
       "3rd    637290       Odisha  Faluknamma Superfast\n",
       "4th    739202     Kolkatta     Howrah Yesmantpur\n",
       "5th    242627      Chennai          chennai mail\n",
       "6th    345272         Puri     Puri Durg Express"
      ]
     },
     "execution_count": 17,
     "metadata": {},
     "output_type": "execute_result"
    }
   ],
   "source": [
    "train_df"
   ]
  },
  {
   "cell_type": "code",
   "execution_count": 18,
   "id": "39c58ad7",
   "metadata": {},
   "outputs": [],
   "source": [
    "seriz = pd.Series(np.random.rand(34))"
   ]
  },
  {
   "cell_type": "code",
   "execution_count": 19,
   "id": "f4fbb062",
   "metadata": {},
   "outputs": [
    {
     "data": {
      "text/plain": [
       "pandas.core.series.Series"
      ]
     },
     "execution_count": 19,
     "metadata": {},
     "output_type": "execute_result"
    }
   ],
   "source": [
    "type(seriz)"
   ]
  },
  {
   "cell_type": "code",
   "execution_count": 20,
   "id": "24c10129",
   "metadata": {},
   "outputs": [
    {
     "data": {
      "text/plain": [
       "0     0.139143\n",
       "1     0.631265\n",
       "2     0.470873\n",
       "3     0.757875\n",
       "4     0.452634\n",
       "5     0.702591\n",
       "6     0.451968\n",
       "7     0.403321\n",
       "8     0.928759\n",
       "9     0.641544\n",
       "10    0.120240\n",
       "11    0.895311\n",
       "12    0.930979\n",
       "13    0.210371\n",
       "14    0.067866\n",
       "15    0.166838\n",
       "16    0.301049\n",
       "17    0.657558\n",
       "18    0.897413\n",
       "19    0.408655\n",
       "20    0.757143\n",
       "21    0.857804\n",
       "22    0.126721\n",
       "23    0.533498\n",
       "24    0.376626\n",
       "25    0.512677\n",
       "26    0.106407\n",
       "27    0.311328\n",
       "28    0.688208\n",
       "29    0.669707\n",
       "30    0.243091\n",
       "31    0.345320\n",
       "32    0.179924\n",
       "33    0.984539\n",
       "dtype: float64"
      ]
     },
     "execution_count": 20,
     "metadata": {},
     "output_type": "execute_result"
    }
   ],
   "source": [
    "seriz"
   ]
  },
  {
   "cell_type": "code",
   "execution_count": 21,
   "id": "85f95a3f",
   "metadata": {},
   "outputs": [],
   "source": [
    "new_datafarame = pd.DataFrame(np.random.rand(300, 5), index = np.arange(300))"
   ]
  },
  {
   "cell_type": "code",
   "execution_count": 22,
   "id": "8ae1e1a5",
   "metadata": {},
   "outputs": [
    {
     "data": {
      "text/html": [
       "<div>\n",
       "<style scoped>\n",
       "    .dataframe tbody tr th:only-of-type {\n",
       "        vertical-align: middle;\n",
       "    }\n",
       "\n",
       "    .dataframe tbody tr th {\n",
       "        vertical-align: top;\n",
       "    }\n",
       "\n",
       "    .dataframe thead th {\n",
       "        text-align: right;\n",
       "    }\n",
       "</style>\n",
       "<table border=\"1\" class=\"dataframe\">\n",
       "  <thead>\n",
       "    <tr style=\"text-align: right;\">\n",
       "      <th></th>\n",
       "      <th>0</th>\n",
       "      <th>1</th>\n",
       "      <th>2</th>\n",
       "      <th>3</th>\n",
       "      <th>4</th>\n",
       "    </tr>\n",
       "  </thead>\n",
       "  <tbody>\n",
       "    <tr>\n",
       "      <th>0</th>\n",
       "      <td>0.622887</td>\n",
       "      <td>0.948148</td>\n",
       "      <td>0.877362</td>\n",
       "      <td>0.973701</td>\n",
       "      <td>0.333681</td>\n",
       "    </tr>\n",
       "    <tr>\n",
       "      <th>1</th>\n",
       "      <td>0.324048</td>\n",
       "      <td>0.373892</td>\n",
       "      <td>0.453980</td>\n",
       "      <td>0.417492</td>\n",
       "      <td>0.200408</td>\n",
       "    </tr>\n",
       "    <tr>\n",
       "      <th>2</th>\n",
       "      <td>0.385404</td>\n",
       "      <td>0.499447</td>\n",
       "      <td>0.840519</td>\n",
       "      <td>0.169399</td>\n",
       "      <td>0.005913</td>\n",
       "    </tr>\n",
       "    <tr>\n",
       "      <th>3</th>\n",
       "      <td>0.106559</td>\n",
       "      <td>0.936489</td>\n",
       "      <td>0.810815</td>\n",
       "      <td>0.561778</td>\n",
       "      <td>0.563097</td>\n",
       "    </tr>\n",
       "    <tr>\n",
       "      <th>4</th>\n",
       "      <td>0.888059</td>\n",
       "      <td>0.046318</td>\n",
       "      <td>0.593693</td>\n",
       "      <td>0.445592</td>\n",
       "      <td>0.523242</td>\n",
       "    </tr>\n",
       "    <tr>\n",
       "      <th>...</th>\n",
       "      <td>...</td>\n",
       "      <td>...</td>\n",
       "      <td>...</td>\n",
       "      <td>...</td>\n",
       "      <td>...</td>\n",
       "    </tr>\n",
       "    <tr>\n",
       "      <th>295</th>\n",
       "      <td>0.781398</td>\n",
       "      <td>0.543645</td>\n",
       "      <td>0.411393</td>\n",
       "      <td>0.682467</td>\n",
       "      <td>0.319938</td>\n",
       "    </tr>\n",
       "    <tr>\n",
       "      <th>296</th>\n",
       "      <td>0.682007</td>\n",
       "      <td>0.635257</td>\n",
       "      <td>0.780971</td>\n",
       "      <td>0.844556</td>\n",
       "      <td>0.074977</td>\n",
       "    </tr>\n",
       "    <tr>\n",
       "      <th>297</th>\n",
       "      <td>0.614548</td>\n",
       "      <td>0.744245</td>\n",
       "      <td>0.945205</td>\n",
       "      <td>0.936168</td>\n",
       "      <td>0.157381</td>\n",
       "    </tr>\n",
       "    <tr>\n",
       "      <th>298</th>\n",
       "      <td>0.244182</td>\n",
       "      <td>0.646241</td>\n",
       "      <td>0.571618</td>\n",
       "      <td>0.366967</td>\n",
       "      <td>0.504723</td>\n",
       "    </tr>\n",
       "    <tr>\n",
       "      <th>299</th>\n",
       "      <td>0.084360</td>\n",
       "      <td>0.748833</td>\n",
       "      <td>0.342162</td>\n",
       "      <td>0.165746</td>\n",
       "      <td>0.434448</td>\n",
       "    </tr>\n",
       "  </tbody>\n",
       "</table>\n",
       "<p>300 rows × 5 columns</p>\n",
       "</div>"
      ],
      "text/plain": [
       "            0         1         2         3         4\n",
       "0    0.622887  0.948148  0.877362  0.973701  0.333681\n",
       "1    0.324048  0.373892  0.453980  0.417492  0.200408\n",
       "2    0.385404  0.499447  0.840519  0.169399  0.005913\n",
       "3    0.106559  0.936489  0.810815  0.561778  0.563097\n",
       "4    0.888059  0.046318  0.593693  0.445592  0.523242\n",
       "..        ...       ...       ...       ...       ...\n",
       "295  0.781398  0.543645  0.411393  0.682467  0.319938\n",
       "296  0.682007  0.635257  0.780971  0.844556  0.074977\n",
       "297  0.614548  0.744245  0.945205  0.936168  0.157381\n",
       "298  0.244182  0.646241  0.571618  0.366967  0.504723\n",
       "299  0.084360  0.748833  0.342162  0.165746  0.434448\n",
       "\n",
       "[300 rows x 5 columns]"
      ]
     },
     "execution_count": 22,
     "metadata": {},
     "output_type": "execute_result"
    }
   ],
   "source": [
    "new_datafarame"
   ]
  },
  {
   "cell_type": "code",
   "execution_count": 23,
   "id": "4d55b9e9",
   "metadata": {},
   "outputs": [
    {
     "data": {
      "text/plain": [
       "pandas.core.frame.DataFrame"
      ]
     },
     "execution_count": 23,
     "metadata": {},
     "output_type": "execute_result"
    }
   ],
   "source": [
    "type(new_datafarame)"
   ]
  },
  {
   "cell_type": "code",
   "execution_count": 24,
   "id": "171a28d8",
   "metadata": {},
   "outputs": [
    {
     "data": {
      "text/html": [
       "<div>\n",
       "<style scoped>\n",
       "    .dataframe tbody tr th:only-of-type {\n",
       "        vertical-align: middle;\n",
       "    }\n",
       "\n",
       "    .dataframe tbody tr th {\n",
       "        vertical-align: top;\n",
       "    }\n",
       "\n",
       "    .dataframe thead th {\n",
       "        text-align: right;\n",
       "    }\n",
       "</style>\n",
       "<table border=\"1\" class=\"dataframe\">\n",
       "  <thead>\n",
       "    <tr style=\"text-align: right;\">\n",
       "      <th></th>\n",
       "      <th>0</th>\n",
       "      <th>1</th>\n",
       "      <th>2</th>\n",
       "      <th>3</th>\n",
       "      <th>4</th>\n",
       "    </tr>\n",
       "  </thead>\n",
       "  <tbody>\n",
       "    <tr>\n",
       "      <th>count</th>\n",
       "      <td>300.000000</td>\n",
       "      <td>300.000000</td>\n",
       "      <td>300.000000</td>\n",
       "      <td>300.000000</td>\n",
       "      <td>300.000000</td>\n",
       "    </tr>\n",
       "    <tr>\n",
       "      <th>mean</th>\n",
       "      <td>0.528079</td>\n",
       "      <td>0.513930</td>\n",
       "      <td>0.515355</td>\n",
       "      <td>0.486799</td>\n",
       "      <td>0.496090</td>\n",
       "    </tr>\n",
       "    <tr>\n",
       "      <th>std</th>\n",
       "      <td>0.297429</td>\n",
       "      <td>0.298282</td>\n",
       "      <td>0.289211</td>\n",
       "      <td>0.292720</td>\n",
       "      <td>0.278863</td>\n",
       "    </tr>\n",
       "    <tr>\n",
       "      <th>min</th>\n",
       "      <td>0.003459</td>\n",
       "      <td>0.002945</td>\n",
       "      <td>0.002316</td>\n",
       "      <td>0.005421</td>\n",
       "      <td>0.004660</td>\n",
       "    </tr>\n",
       "    <tr>\n",
       "      <th>25%</th>\n",
       "      <td>0.258752</td>\n",
       "      <td>0.237530</td>\n",
       "      <td>0.260906</td>\n",
       "      <td>0.235729</td>\n",
       "      <td>0.238536</td>\n",
       "    </tr>\n",
       "    <tr>\n",
       "      <th>50%</th>\n",
       "      <td>0.522380</td>\n",
       "      <td>0.525090</td>\n",
       "      <td>0.543859</td>\n",
       "      <td>0.466255</td>\n",
       "      <td>0.537821</td>\n",
       "    </tr>\n",
       "    <tr>\n",
       "      <th>75%</th>\n",
       "      <td>0.809388</td>\n",
       "      <td>0.771365</td>\n",
       "      <td>0.746783</td>\n",
       "      <td>0.735563</td>\n",
       "      <td>0.706237</td>\n",
       "    </tr>\n",
       "    <tr>\n",
       "      <th>max</th>\n",
       "      <td>0.988794</td>\n",
       "      <td>0.995928</td>\n",
       "      <td>0.998856</td>\n",
       "      <td>0.998583</td>\n",
       "      <td>0.994472</td>\n",
       "    </tr>\n",
       "  </tbody>\n",
       "</table>\n",
       "</div>"
      ],
      "text/plain": [
       "                0           1           2           3           4\n",
       "count  300.000000  300.000000  300.000000  300.000000  300.000000\n",
       "mean     0.528079    0.513930    0.515355    0.486799    0.496090\n",
       "std      0.297429    0.298282    0.289211    0.292720    0.278863\n",
       "min      0.003459    0.002945    0.002316    0.005421    0.004660\n",
       "25%      0.258752    0.237530    0.260906    0.235729    0.238536\n",
       "50%      0.522380    0.525090    0.543859    0.466255    0.537821\n",
       "75%      0.809388    0.771365    0.746783    0.735563    0.706237\n",
       "max      0.988794    0.995928    0.998856    0.998583    0.994472"
      ]
     },
     "execution_count": 24,
     "metadata": {},
     "output_type": "execute_result"
    }
   ],
   "source": [
    "new_datafarame.describe()"
   ]
  },
  {
   "cell_type": "code",
   "execution_count": 26,
   "id": "f3ec1c5c",
   "metadata": {},
   "outputs": [
    {
     "data": {
      "text/plain": [
       "0    float64\n",
       "1    float64\n",
       "2    float64\n",
       "3    float64\n",
       "4    float64\n",
       "dtype: object"
      ]
     },
     "execution_count": 26,
     "metadata": {},
     "output_type": "execute_result"
    }
   ],
   "source": [
    "new_datafarame.dtypes"
   ]
  },
  {
   "cell_type": "code",
   "execution_count": 28,
   "id": "d06f1e2d",
   "metadata": {},
   "outputs": [
    {
     "data": {
      "text/html": [
       "<div>\n",
       "<style scoped>\n",
       "    .dataframe tbody tr th:only-of-type {\n",
       "        vertical-align: middle;\n",
       "    }\n",
       "\n",
       "    .dataframe tbody tr th {\n",
       "        vertical-align: top;\n",
       "    }\n",
       "\n",
       "    .dataframe thead th {\n",
       "        text-align: right;\n",
       "    }\n",
       "</style>\n",
       "<table border=\"1\" class=\"dataframe\">\n",
       "  <thead>\n",
       "    <tr style=\"text-align: right;\">\n",
       "      <th></th>\n",
       "      <th>0</th>\n",
       "      <th>1</th>\n",
       "      <th>2</th>\n",
       "      <th>3</th>\n",
       "      <th>4</th>\n",
       "    </tr>\n",
       "  </thead>\n",
       "  <tbody>\n",
       "    <tr>\n",
       "      <th>0</th>\n",
       "      <td>0.622887</td>\n",
       "      <td>0.948148</td>\n",
       "      <td>0.877362</td>\n",
       "      <td>0.973701</td>\n",
       "      <td>0.333681</td>\n",
       "    </tr>\n",
       "    <tr>\n",
       "      <th>1</th>\n",
       "      <td>0.324048</td>\n",
       "      <td>0.373892</td>\n",
       "      <td>0.453980</td>\n",
       "      <td>0.417492</td>\n",
       "      <td>0.200408</td>\n",
       "    </tr>\n",
       "    <tr>\n",
       "      <th>2</th>\n",
       "      <td>0.385404</td>\n",
       "      <td>0.499447</td>\n",
       "      <td>0.840519</td>\n",
       "      <td>0.169399</td>\n",
       "      <td>0.005913</td>\n",
       "    </tr>\n",
       "    <tr>\n",
       "      <th>3</th>\n",
       "      <td>0.106559</td>\n",
       "      <td>0.936489</td>\n",
       "      <td>0.810815</td>\n",
       "      <td>0.561778</td>\n",
       "      <td>0.563097</td>\n",
       "    </tr>\n",
       "    <tr>\n",
       "      <th>4</th>\n",
       "      <td>0.888059</td>\n",
       "      <td>0.046318</td>\n",
       "      <td>0.593693</td>\n",
       "      <td>0.445592</td>\n",
       "      <td>0.523242</td>\n",
       "    </tr>\n",
       "  </tbody>\n",
       "</table>\n",
       "</div>"
      ],
      "text/plain": [
       "          0         1         2         3         4\n",
       "0  0.622887  0.948148  0.877362  0.973701  0.333681\n",
       "1  0.324048  0.373892  0.453980  0.417492  0.200408\n",
       "2  0.385404  0.499447  0.840519  0.169399  0.005913\n",
       "3  0.106559  0.936489  0.810815  0.561778  0.563097\n",
       "4  0.888059  0.046318  0.593693  0.445592  0.523242"
      ]
     },
     "execution_count": 28,
     "metadata": {},
     "output_type": "execute_result"
    }
   ],
   "source": [
    "new_datafarame.head()"
   ]
  },
  {
   "cell_type": "code",
   "execution_count": 30,
   "id": "b2bbcd6c",
   "metadata": {},
   "outputs": [
    {
     "data": {
      "text/html": [
       "<div>\n",
       "<style scoped>\n",
       "    .dataframe tbody tr th:only-of-type {\n",
       "        vertical-align: middle;\n",
       "    }\n",
       "\n",
       "    .dataframe tbody tr th {\n",
       "        vertical-align: top;\n",
       "    }\n",
       "\n",
       "    .dataframe thead th {\n",
       "        text-align: right;\n",
       "    }\n",
       "</style>\n",
       "<table border=\"1\" class=\"dataframe\">\n",
       "  <thead>\n",
       "    <tr style=\"text-align: right;\">\n",
       "      <th></th>\n",
       "      <th>0</th>\n",
       "      <th>1</th>\n",
       "      <th>2</th>\n",
       "      <th>3</th>\n",
       "      <th>4</th>\n",
       "    </tr>\n",
       "  </thead>\n",
       "  <tbody>\n",
       "    <tr>\n",
       "      <th>0</th>\n",
       "      <td>0.622887</td>\n",
       "      <td>0.948148</td>\n",
       "      <td>0.877362</td>\n",
       "      <td>0.973701</td>\n",
       "      <td>0.333681</td>\n",
       "    </tr>\n",
       "    <tr>\n",
       "      <th>1</th>\n",
       "      <td>Deepu</td>\n",
       "      <td>0.373892</td>\n",
       "      <td>0.453980</td>\n",
       "      <td>0.417492</td>\n",
       "      <td>0.200408</td>\n",
       "    </tr>\n",
       "    <tr>\n",
       "      <th>2</th>\n",
       "      <td>0.385404</td>\n",
       "      <td>0.499447</td>\n",
       "      <td>0.840519</td>\n",
       "      <td>0.169399</td>\n",
       "      <td>0.005913</td>\n",
       "    </tr>\n",
       "    <tr>\n",
       "      <th>3</th>\n",
       "      <td>0.106559</td>\n",
       "      <td>0.936489</td>\n",
       "      <td>0.810815</td>\n",
       "      <td>0.561778</td>\n",
       "      <td>0.563097</td>\n",
       "    </tr>\n",
       "    <tr>\n",
       "      <th>4</th>\n",
       "      <td>0.888059</td>\n",
       "      <td>0.046318</td>\n",
       "      <td>0.593693</td>\n",
       "      <td>0.445592</td>\n",
       "      <td>0.523242</td>\n",
       "    </tr>\n",
       "  </tbody>\n",
       "</table>\n",
       "</div>"
      ],
      "text/plain": [
       "          0         1         2         3         4\n",
       "0  0.622887  0.948148  0.877362  0.973701  0.333681\n",
       "1     Deepu  0.373892  0.453980  0.417492  0.200408\n",
       "2  0.385404  0.499447  0.840519  0.169399  0.005913\n",
       "3  0.106559  0.936489  0.810815  0.561778  0.563097\n",
       "4  0.888059  0.046318  0.593693  0.445592  0.523242"
      ]
     },
     "execution_count": 30,
     "metadata": {},
     "output_type": "execute_result"
    }
   ],
   "source": [
    "new_datafarame[0][1] = \"Deepu\"\n",
    "new_datafarame.head()"
   ]
  },
  {
   "cell_type": "code",
   "execution_count": 38,
   "id": "73fbf383",
   "metadata": {},
   "outputs": [
    {
     "data": {
      "text/plain": [
       "0      False\n",
       "1      False\n",
       "2      False\n",
       "3      False\n",
       "4      False\n",
       "       ...  \n",
       "295    False\n",
       "296    False\n",
       "297    False\n",
       "298    False\n",
       "299    False\n",
       "Length: 300, dtype: bool"
      ]
     },
     "execution_count": 38,
     "metadata": {},
     "output_type": "execute_result"
    }
   ],
   "source": [
    "new_datafarame.duplicated()"
   ]
  },
  {
   "cell_type": "code",
   "execution_count": 40,
   "id": "881b479f",
   "metadata": {},
   "outputs": [
    {
     "data": {
      "text/plain": [
       "Int64Index([  0,   1,   2,   3,   4,   5,   6,   7,   8,   9,\n",
       "            ...\n",
       "            290, 291, 292, 293, 294, 295, 296, 297, 298, 299],\n",
       "           dtype='int64', length=300)"
      ]
     },
     "execution_count": 40,
     "metadata": {},
     "output_type": "execute_result"
    }
   ],
   "source": [
    "new_datafarame.index"
   ]
  },
  {
   "cell_type": "code",
   "execution_count": 41,
   "id": "7714acda",
   "metadata": {},
   "outputs": [
    {
     "data": {
      "text/plain": [
       "RangeIndex(start=0, stop=5, step=1)"
      ]
     },
     "execution_count": 41,
     "metadata": {},
     "output_type": "execute_result"
    }
   ],
   "source": [
    "new_datafarame.columns"
   ]
  },
  {
   "cell_type": "markdown",
   "id": "e7c6ad40",
   "metadata": {},
   "source": [
    "# convert a array to numpy array"
   ]
  },
  {
   "cell_type": "code",
   "execution_count": null,
   "id": "ed6e361f",
   "metadata": {},
   "outputs": [],
   "source": []
  }
 ],
 "metadata": {
  "kernelspec": {
   "display_name": "Python 3 (ipykernel)",
   "language": "python",
   "name": "python3"
  },
  "language_info": {
   "codemirror_mode": {
    "name": "ipython",
    "version": 3
   },
   "file_extension": ".py",
   "mimetype": "text/x-python",
   "name": "python",
   "nbconvert_exporter": "python",
   "pygments_lexer": "ipython3",
   "version": "3.9.8"
  }
 },
 "nbformat": 4,
 "nbformat_minor": 5
}
